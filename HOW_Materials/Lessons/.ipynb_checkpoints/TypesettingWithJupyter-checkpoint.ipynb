{
 "cells": [
  {
   "cell_type": "markdown",
   "metadata": {},
   "source": [
    "# Typesetting With Jupyter Notebooks\n",
    "\n",
    "One of the biggest strengths of using Jupter Notebooks to do data science is the ability to include both (rendered) markdown text and live code in the same file! Before we get too carried away with programming in SAS within a Jupyter Notebook, let's first explore typesetting a bit."
   ]
  },
  {
   "cell_type": "markdown",
   "metadata": {},
   "source": [
    "## Jupyter Notebook Structure\n",
    "\n",
    "Whether you're writing text or code, a Jupyter Notebook is composed \"cells\" that each contain either markdown text OR code (but generally not both). Once rendered, it's actually a little hard to tell which pieces of text are in separate cells. For example, this subsection is in a different cell than the small introduction section above.\n",
    "\n",
    "You may choose to put the largest possible amount of text in each cell you've designated as markdown cells, or you may want to break up topics, paragraphs, etc. It's up to you!\n",
    "\n",
    "New cells can be created using the menus at the top of the Jupyter interface OR you can use keyboard controls akin to those in vi (or vim). For example, when you're not editing the contents of a cell you can use \"j\" to navigate down the notebook one cell at a time and \"k\" will go up. The \"enter\" key with a particular cell selected will enter edit mode and allow you to change the contents of a cell. You may also just double-click a cell to enter edit mode for it.\n",
    "\n",
    "To change the type of a cell (e.g. markdown or code), you can use the drop-down menu at the top of the notebook. Rendering the markdown in a cell or running the code in a cell is as easy as having that cell selected and hitting **Ctrl+Enter** or **Shift+Enter**."
   ]
  },
  {
   "cell_type": "markdown",
   "metadata": {},
   "source": [
    "## Formatting and Typesetting\n",
    "\n",
    "Even in this prepared notebook, you can enter edit mode for any of the cells to take a look under the hood at the markdown syntax for doing certain things. It's....\n",
    "\n",
    "![alt text](https://media.giphy.com/media/ujUdrdpX7Ok5W/giphy.gif \"Magic\")\n"
   ]
  },
  {
   "cell_type": "markdown",
   "metadata": {},
   "source": [
    "We can do many of the most common things that you're used to doing in a word processor like\n",
    "\n",
    "* make things **bold**\n",
    "* make things _italics_\n",
    "* ~~strikethroughs~~\n",
    "\n",
    "and obviously create lists too!\n",
    "\n",
    "Instead of duplicating a lot of great documentation for markdown functionality here, I'm going to refer to you a nice, concise guide. Go ahead and take a few minutes to look through this [Markdown Cheatsheet](https://github.com/adam-p/markdown-here/wiki/Markdown-Cheatsheet), then open and complete the **Exercise 1** notebook in the Exercises subfolder."
   ]
  }
 ],
 "metadata": {
  "kernelspec": {
   "display_name": "SAS",
   "language": "sas",
   "name": "sas"
  },
  "language_info": {
   "codemirror_mode": "sas",
   "file_extension": ".sas",
   "mimetype": "text/x-sas",
   "name": "sas"
  }
 },
 "nbformat": 4,
 "nbformat_minor": 2
}
