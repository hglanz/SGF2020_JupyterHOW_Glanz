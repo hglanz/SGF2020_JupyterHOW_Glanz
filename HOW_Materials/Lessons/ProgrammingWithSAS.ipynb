{
 "cells": [
  {
   "cell_type": "markdown",
   "metadata": {},
   "source": [
    "# My First SAS Jupyter Notebook\n",
    "\n",
    "This is *fantastic*! Can this be real?!\n",
    "\n",
    "## Introduction to Basic SAS\n",
    "\n",
    "I'm a **statistician** by training and so I have a soft spot for [Fisher's iris dataset](https://en.wikipedia.org/wiki/Iris_flower_data_set). Observe..."
   ]
  },
  {
   "cell_type": "code",
   "execution_count": null,
   "metadata": {},
   "outputs": [],
   "source": [
    "proc sgplot data = sashelp.iris;\n",
    "scatter x = SepalLength y = PetalLength / group = Species markerattrs=(symbol=circlefilled);\n",
    "run;"
   ]
  },
  {
   "cell_type": "markdown",
   "metadata": {},
   "source": [
    "Notice that the type of the previous cell is code and **NOT** markdown. We then get the expected color-coding and formatting you're probably used to when coding in SAS. Again, running the code in the previous cell is as easy as selecting that cell and hitting **Ctrl+Enter** or **Shift+Enter**. The output then shows up inline right beneath the code cell!"
   ]
  },
  {
   "cell_type": "markdown",
   "metadata": {},
   "source": [
    "## Some Basic Summaries of the Iris Dataset\n",
    "\n",
    "To my knowledge we can most anything you can think of in SAS! But now, we're not limited to comments as our only means of documenting and annotating our code and data science work. We can mix-and-match, and interweave our code and text...creating the report on the fly!"
   ]
  },
  {
   "cell_type": "code",
   "execution_count": null,
   "metadata": {},
   "outputs": [],
   "source": [
    "proc contents data = sashelp.iris;\n",
    "run;\n",
    "\n",
    "proc print data = sashelp.iris (obs = 10);\n",
    "run;\n",
    "\n",
    "proc means data = sashelp.iris;\n",
    "run;"
   ]
  },
  {
   "cell_type": "markdown",
   "metadata": {},
   "source": [
    "But if you're used to SAS, you're probably wondering where the log went. In many ways, it's nice that our notebook has remained clean and only included our text, code, and output. But the log is a critical part of SAS work. Below are two ways to access log information for previously run code cells."
   ]
  },
  {
   "cell_type": "markdown",
   "metadata": {},
   "source": [
    "## Simple Regression Analysis\n",
    "\n",
    "It wasn't mentioned in the typesetting notebook, but we also have access to math notation via LaTeX-type syntax. Check out the cells below!"
   ]
  },
  {
   "cell_type": "code",
   "execution_count": null,
   "metadata": {},
   "outputs": [],
   "source": [
    "proc reg data = sashelp.iris;\n",
    "model PetalLength = SepalLength;\n",
    "quit;"
   ]
  },
  {
   "cell_type": "markdown",
   "metadata": {},
   "source": [
    "### Fitted Regression Equation for Petal Length (y) vs. Sepal Length (x)"
   ]
  },
  {
   "cell_type": "markdown",
   "metadata": {},
   "source": [
    "$\\hat{y} = \\hat{\\beta}_0 + \\hat{\\beta}_1x$\n",
    "\n",
    "$\\hat{y} = -71.01443 + 1.85843x$"
   ]
  },
  {
   "cell_type": "markdown",
   "metadata": {},
   "source": [
    "For a quick reference on LaTeX syntax, check out the following 2-page [cheatsheet](https://wch.github.io/latexsheet/)"
   ]
  },
  {
   "cell_type": "markdown",
   "metadata": {},
   "source": [
    "## One More Note on Notebook Structure\n",
    "\n",
    "Usually PROC CONTENTS is a good first step in any data exploration or analysis, but it wasn't until after plotting that we ran PROC CONTENTS. Scroll back up and try to drag and drop the PROC CONTENTS code cell above the plotting code cell...\n",
    "\n",
    "How awesome and easy was that?! Open up and complete the **Exercise 2** Notebook."
   ]
  }
 ],
 "metadata": {
  "kernelspec": {
   "display_name": "SAS",
   "language": "sas",
   "name": "sas"
  },
  "language_info": {
   "codemirror_mode": "sas",
   "file_extension": ".sas",
   "mimetype": "text/x-sas",
   "name": "sas"
  }
 },
 "nbformat": 4,
 "nbformat_minor": 2
}
