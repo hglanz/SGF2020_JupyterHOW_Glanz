{
 "cells": [
  {
   "cell_type": "markdown",
   "metadata": {},
   "source": [
    "# Exercise 1\n",
    "\n",
    "In a series of newly create cells beneath this one, do the following:\n",
    "\n",
    "1. Create a numbered list of your top 5 favorite SAS procedures\n",
    "2. For each of these SAS procedures include a link to the online documentation for it\n",
    "3. In a separate cell for each of these procedures, create a header that corresponds to the name of that procedure **AND** an image that you think best represents that procedure (spend no more than a couple minutes searching around for these images).\n",
    "4. Finally, create a table that contains 3 rows and 2 columns with information on other talks you will attend here at SAS Global Forum 202. Each row should correspond to a different talk with the title in column 1 and the room in column 2."
   ]
  }
 ],
 "metadata": {
  "kernelspec": {
   "display_name": "SAS",
   "language": "sas",
   "name": "sas"
  },
  "language_info": {
   "codemirror_mode": "sas",
   "file_extension": ".sas",
   "mimetype": "text/x-sas",
   "name": "sas"
  }
 },
 "nbformat": 4,
 "nbformat_minor": 2
}
