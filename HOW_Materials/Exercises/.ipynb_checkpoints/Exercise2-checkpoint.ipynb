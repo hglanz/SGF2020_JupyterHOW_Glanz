{
 "cells": [
  {
   "cell_type": "markdown",
   "metadata": {},
   "source": [
    "# Exercise 2\n",
    "\n",
    "In a series of newly create cells beneath this one, do the following:\n",
    "\n",
    "1. Check out the following documentation about the datasets contained in the **sashelp** library: http://support.sas.com/documentation/tools/sashelpug.pdf\n",
    "2. Pick your favorite **sashelp** dataset and mimic the exploration done in the **ProgrammingWithSAS** Notebook:\n",
    "\n",
    "..- Run a PROC CONTENTS on the dataset\n",
    "\n",
    "..- Create at least one visualization using the dataset\n",
    "\n",
    "..- Use PROC MEANS, PROC FREQ, or some other PROC of your choosing to create some summaries of the dataset\n",
    "\n",
    "3. Make sure to include a few markdown cells throughout describing what you're doing and discovering about your dataset.\n",
    "4. For complete clarity, display the log from your code cells above to confirm that everything ran correctly.\n",
    "5. Finally, check out the following for more information on\n",
    "\n",
    "..- [How to use Jupyter outside of SAS University Edition](https://github.com/sassoftware/sas_kernel)\n",
    "\n",
    "..- [Using Python With SAS in Jupyter](https://sassoftware.github.io/saspy/index.html)"
   ]
  }
 ],
 "metadata": {
  "kernelspec": {
   "display_name": "SAS",
   "language": "sas",
   "name": "sas"
  },
  "language_info": {
   "codemirror_mode": "sas",
   "file_extension": ".sas",
   "mimetype": "text/x-sas",
   "name": "sas"
  }
 },
 "nbformat": 4,
 "nbformat_minor": 2
}
